{
  "nbformat": 4,
  "nbformat_minor": 0,
  "metadata": {
    "colab": {
      "provenance": [],
      "include_colab_link": true
    },
    "kernelspec": {
      "name": "python3",
      "display_name": "Python 3"
    },
    "language_info": {
      "name": "python"
    }
  },
  "cells": [
    {
      "cell_type": "markdown",
      "metadata": {
        "id": "view-in-github",
        "colab_type": "text"
      },
      "source": [
        "<a href=\"https://colab.research.google.com/github/jyotidabass/Mistral_7B-chatbot_app/blob/main/Mistral_7B.ipynb\" target=\"_parent\"><img src=\"https://colab.research.google.com/assets/colab-badge.svg\" alt=\"Open In Colab\"/></a>"
      ]
    },
    {
      "cell_type": "markdown",
      "source": [
        "# Mistral 7B\n",
        "\n",
        "Mistral 7B is a new state-of-the-art open-source model. Here are some interesting facts about it\n",
        "\n",
        "* One of the strongest open-source models, of all sizes\n",
        "* Strongest model in the 1-20B parameter range models\n",
        "* Does decently in code-related tasks\n",
        "* Uses Windowed attention, allowing to push to 200k tokens of context if using Rope (needs 4 A10G GPUs for this)\n",
        "* Apache 2.0 license\n",
        "\n",
        "As for the integrations status:\n",
        "* Integrated into `transformers`\n",
        "* You can use it with a server or locally (it's a small model after all!)\n",
        "* Integrated into popular tools tuch as TGI and VLLM\n",
        "\n",
        "\n",
        "Two models are released: a [base model](https://huggingface.co/mistralai/Mistral-7B-v0.1) and a [instruct fine-tuned version](https://huggingface.co/mistralai/Mistral-7B-Instruct-v0.1). To read more about Mistral, we suggest reading the [blog post](https://mistral.ai/news/announcing-mistral-7b/).\n",
        "\n",
        "In this Colab, we'll experiment with the Mistral model using an API. There are three ways we can use it:\n",
        "\n",
        "* **Free API:** Hugging Face provides a free Inference API for all its users to try out models. This API is rate limited but is great for quick experiments.\n",
        "* **PRO and Enterprise API:** Hugging Face provides an open API for all its PRO users.  Subscribing to the Pro Inference API costs $9/month and allows you to experiment with many large models, such as Llama 2 and SDXL. Read more about it [here](https://huggingface.co/blog/inference-pro).\n",
        "* **Inference Endpoints:** For enterprise and production-ready cases. You can deploy it with 1 click [here](https://ui.endpoints.huggingface.co/catalog).\n",
        "\n",
        "This demo does not require GPU Colab, just CPU. You can grab your token at https://huggingface.co/settings/tokens.\n",
        "\n",
        "**This colab shows how to use HTTP requests as well as building your own chat demo for Mistral.**"
      ],
      "metadata": {
        "id": "GLXvYa4m8JYM"
      }
    },
    {
      "cell_type": "markdown",
      "source": [
        "## Doing curl requests\n",
        "\n",
        "\n",
        "In this notebook, we'll experiment with the instruct model, as it is trained for instructions. As per [the model card](https://huggingface.co/mistralai/Mistral-7B-Instruct-v0.1), the expected format for a prompt is as follows\n",
        "\n",
        "From the model card\n",
        "\n",
        "> In order to leverage instruction fine-tuning, your prompt should be surrounded by [INST] and [\\INST] tokens. The very first instruction should begin with a begin of sentence id. The next instructions should not. The assistant generation will be ended by the end-of-sentence token id.\n",
        "\n",
        "```\n",
        "<s>[INST] {{ user_msg_1 }} [/INST] {{ model_answer_1 }}</s> [INST] {{ user_msg_2 }} [/INST] {{ model_answer_2 }}</s>\n",
        "```\n",
        "\n",
        "Note that models can be quite reactive to different prompt structure than the one used for training, so watch out for spaces and other things!\n",
        "\n",
        "We'll start an initial query without prompt formatting, which works ok for simple queries."
      ],
      "metadata": {
        "id": "pKrKTalPAXUO"
      }
    },
    {
      "cell_type": "code",
      "execution_count": 1,
      "metadata": {
        "colab": {
          "base_uri": "https://localhost:8080/"
        },
        "id": "DQf0Hss18E86",
        "outputId": "abed015a-1bf3-4800-a16d-e4531ed06b41"
      },
      "outputs": [
        {
          "output_type": "stream",
          "name": "stdout",
          "text": [
            "{\"error\":\"Authorization header is correct, but the token seems invalid\"}"
          ]
        }
      ],
      "source": [
        "!curl https://api-inference.huggingface.co/models/mistralai/Mistral-7B-Instruct-v0.1 \\\n",
        "  --header \"Content-Type: application/json\" \\\n",
        "\t-X POST \\\n",
        "\t-d '{\"inputs\": \"Explain ML as a pirate\", \"parameters\": {\"max_new_tokens\": 50}}' \\\n",
        "\t-H \"Authorization: Bearer API_TOKEN\""
      ]
    },
    {
      "cell_type": "markdown",
      "source": [
        "## Programmatic usage with Python\n",
        "\n",
        "You can do simple `requests`, but the `huggingface_hub` library provides nice utilities to easily use the model. Among the things we can use are:\n",
        "\n",
        "* `InferenceClient` and `AsyncInferenceClient` to perform inference either in a sync or async way.\n",
        "* Token streaming: Only load the tokens that are needed\n",
        "* Easily configure generation params, such as `temperature`, nucleus sampling (`top-p`), repetition penalty, stop sequences, and more.\n",
        "* Obtain details of the generation (such as the probability of each token or whether a token is the last token)."
      ],
      "metadata": {
        "id": "YYZRNyZeBHWK"
      }
    },
    {
      "cell_type": "code",
      "source": [
        "%%capture\n",
        "!pip install huggingface_hub gradio"
      ],
      "metadata": {
        "id": "oDaqVDz1Ahuz"
      },
      "execution_count": 2,
      "outputs": []
    },
    {
      "cell_type": "code",
      "source": [
        "from huggingface_hub import InferenceClient\n",
        "\n",
        "client = InferenceClient(\n",
        "    \"mistralai/Mistral-7B-Instruct-v0.1\"\n",
        ")\n",
        "\n",
        "prompt = \"\"\"<s>[INST] What is your favourite condiment?  [/INST]</s>\n",
        "\"\"\"\n",
        "\n",
        "res = client.text_generation(prompt, max_new_tokens=95)\n",
        "print(res)"
      ],
      "metadata": {
        "colab": {
          "base_uri": "https://localhost:8080/"
        },
        "id": "U49GmNsNBJjd",
        "outputId": "94bbff0d-656d-4f07-da06-ba50dd99d73e"
      },
      "execution_count": 3,
      "outputs": [
        {
          "output_type": "stream",
          "name": "stderr",
          "text": [
            "/usr/local/lib/python3.10/dist-packages/huggingface_hub/utils/_token.py:88: UserWarning: \n",
            "The secret `HF_TOKEN` does not exist in your Colab secrets.\n",
            "To authenticate with the Hugging Face Hub, create a token in your settings tab (https://huggingface.co/settings/tokens), set it as secret in your Google Colab and restart your session.\n",
            "You will be able to reuse this secret in all of your notebooks.\n",
            "Please note that authentication is recommended but still optional to access public models or datasets.\n",
            "  warnings.warn(\n"
          ]
        },
        {
          "output_type": "stream",
          "name": "stdout",
          "text": [
            "\n",
            "I don't have personal experiences or preferences. However, I can tell you that people's favorite condiments can vary widely based on personal taste and cultural background. Some popular condiments include ketchup, mustard, mayonnaise, hot sauce, soy sauce, and olive oil.\n"
          ]
        }
      ]
    },
    {
      "cell_type": "markdown",
      "source": [
        "We can also use [token streaming](https://huggingface.co/docs/text-generation-inference/conceptual/streaming). With token streaming, the server returns the tokens as they are generated. Just add `stream=True`."
      ],
      "metadata": {
        "id": "DryfEWsUH6Ij"
      }
    },
    {
      "cell_type": "code",
      "source": [
        "res = client.text_generation(prompt, max_new_tokens=35, stream=True, details=True, return_full_text=False)\n",
        "for r in res: # this is a generator\n",
        "  # print the token for example\n",
        "  print(r)\n",
        "  continue"
      ],
      "metadata": {
        "colab": {
          "base_uri": "https://localhost:8080/"
        },
        "id": "LF1tFo6DGg9N",
        "outputId": "983ca807-7a87-4571-9e85-03c60dae96c5"
      },
      "execution_count": 4,
      "outputs": [
        {
          "output_type": "stream",
          "name": "stdout",
          "text": [
            "TextGenerationStreamResponse(token=Token(id=13, text='\\n', logprob=-0.45092773, special=False), generated_text=None, details=None)\n",
            "TextGenerationStreamResponse(token=Token(id=28737, text='I', logprob=-1.5058594, special=False), generated_text=None, details=None)\n",
            "TextGenerationStreamResponse(token=Token(id=949, text=' don', logprob=-1.3085938, special=False), generated_text=None, details=None)\n",
            "TextGenerationStreamResponse(token=Token(id=28742, text=\"'\", logprob=-0.01713562, special=False), generated_text=None, details=None)\n",
            "TextGenerationStreamResponse(token=Token(id=28707, text='t', logprob=-1.2755394e-05, special=False), generated_text=None, details=None)\n",
            "TextGenerationStreamResponse(token=Token(id=506, text=' have', logprob=-0.5395508, special=False), generated_text=None, details=None)\n",
            "TextGenerationStreamResponse(token=Token(id=3327, text=' personal', logprob=-0.33081055, special=False), generated_text=None, details=None)\n",
            "TextGenerationStreamResponse(token=Token(id=9021, text=' experiences', logprob=-0.8984375, special=False), generated_text=None, details=None)\n",
            "TextGenerationStreamResponse(token=Token(id=442, text=' or', logprob=-0.7285156, special=False), generated_text=None, details=None)\n",
            "TextGenerationStreamResponse(token=Token(id=22731, text=' preferences', logprob=-0.7841797, special=False), generated_text=None, details=None)\n",
            "TextGenerationStreamResponse(token=Token(id=28723, text='.', logprob=-0.55566406, special=False), generated_text=None, details=None)\n",
            "TextGenerationStreamResponse(token=Token(id=2993, text=' However', logprob=-0.5444336, special=False), generated_text=None, details=None)\n",
            "TextGenerationStreamResponse(token=Token(id=28725, text=',', logprob=-0.001411438, special=False), generated_text=None, details=None)\n",
            "TextGenerationStreamResponse(token=Token(id=315, text=' I', logprob=-1.0273438, special=False), generated_text=None, details=None)\n",
            "TextGenerationStreamResponse(token=Token(id=541, text=' can', logprob=-0.12310791, special=False), generated_text=None, details=None)\n",
            "TextGenerationStreamResponse(token=Token(id=1912, text=' tell', logprob=-0.4975586, special=False), generated_text=None, details=None)\n",
            "TextGenerationStreamResponse(token=Token(id=368, text=' you', logprob=-0.008377075, special=False), generated_text=None, details=None)\n",
            "TextGenerationStreamResponse(token=Token(id=369, text=' that', logprob=-0.015563965, special=False), generated_text=None, details=None)\n",
            "TextGenerationStreamResponse(token=Token(id=905, text=' people', logprob=-1.4736328, special=False), generated_text=None, details=None)\n",
            "TextGenerationStreamResponse(token=Token(id=28742, text=\"'\", logprob=-0.9682617, special=False), generated_text=None, details=None)\n",
            "TextGenerationStreamResponse(token=Token(id=28713, text='s', logprob=-5.9604645e-07, special=False), generated_text=None, details=None)\n",
            "TextGenerationStreamResponse(token=Token(id=6656, text=' favorite', logprob=-0.46826172, special=False), generated_text=None, details=None)\n",
            "TextGenerationStreamResponse(token=Token(id=2076, text=' cond', logprob=-0.00079488754, special=False), generated_text=None, details=None)\n",
            "TextGenerationStreamResponse(token=Token(id=8447, text='iments', logprob=-3.8266182e-05, special=False), generated_text=None, details=None)\n",
            "TextGenerationStreamResponse(token=Token(id=541, text=' can', logprob=-0.48364258, special=False), generated_text=None, details=None)\n",
            "TextGenerationStreamResponse(token=Token(id=11204, text=' vary', logprob=-0.09643555, special=False), generated_text=None, details=None)\n",
            "TextGenerationStreamResponse(token=Token(id=12575, text=' widely', logprob=-0.59521484, special=False), generated_text=None, details=None)\n",
            "TextGenerationStreamResponse(token=Token(id=2818, text=' based', logprob=-1.2685547, special=False), generated_text=None, details=None)\n",
            "TextGenerationStreamResponse(token=Token(id=356, text=' on', logprob=-0.00074768066, special=False), generated_text=None, details=None)\n",
            "TextGenerationStreamResponse(token=Token(id=3327, text=' personal', logprob=-0.7832031, special=False), generated_text=None, details=None)\n",
            "TextGenerationStreamResponse(token=Token(id=9230, text=' taste', logprob=-0.058288574, special=False), generated_text=None, details=None)\n",
            "TextGenerationStreamResponse(token=Token(id=304, text=' and', logprob=-0.5576172, special=False), generated_text=None, details=None)\n",
            "TextGenerationStreamResponse(token=Token(id=8932, text=' cultural', logprob=-0.6254883, special=False), generated_text=None, details=None)\n",
            "TextGenerationStreamResponse(token=Token(id=5414, text=' background', logprob=-0.30908203, special=False), generated_text=None, details=None)\n",
            "TextGenerationStreamResponse(token=Token(id=28723, text='.', logprob=-0.02609253, special=False), generated_text=\"\\nI don't have personal experiences or preferences. However, I can tell you that people's favorite condiments can vary widely based on personal taste and cultural background.\", details=StreamDetails(finish_reason=<FinishReason.Length: 'length'>, generated_tokens=35, seed=None))\n"
          ]
        }
      ]
    },
    {
      "cell_type": "markdown",
      "source": [
        "Let's now try a multi-prompt structure"
      ],
      "metadata": {
        "id": "TfdpZL8cICOD"
      }
    },
    {
      "cell_type": "code",
      "source": [
        "def format_prompt(message, history):\n",
        "  prompt = \"<s>\"\n",
        "  for user_prompt, bot_response in history:\n",
        "    prompt += f\"[INST] {user_prompt} [/INST]\"\n",
        "    prompt += f\" {bot_response}</s> \"\n",
        "  prompt += f\"[INST] {message} [/INST]\"\n",
        "  return prompt"
      ],
      "metadata": {
        "id": "aEyozeReH8a6"
      },
      "execution_count": 5,
      "outputs": []
    },
    {
      "cell_type": "code",
      "source": [
        "message = \"And what do you think about it?\"\n",
        "history = [[\"What is your favourite condiment?\", \"My favorite condiment is ketchup. It's versatile, tasty, and goes well with a variety of foods.\"]]\n",
        "\n",
        "format_prompt(message, history)"
      ],
      "metadata": {
        "colab": {
          "base_uri": "https://localhost:8080/",
          "height": 52
        },
        "id": "P1RFpiJ_JC0-",
        "outputId": "0af77ae0-8007-46fe-fb39-0ef00c3be334"
      },
      "execution_count": 6,
      "outputs": [
        {
          "output_type": "execute_result",
          "data": {
            "text/plain": [
              "\"<s>[INST] What is your favourite condiment? [/INST] My favorite condiment is ketchup. It's versatile, tasty, and goes well with a variety of foods.</s> [INST] And what do you think about it? [/INST]\""
            ],
            "application/vnd.google.colaboratory.intrinsic+json": {
              "type": "string"
            }
          },
          "metadata": {},
          "execution_count": 6
        }
      ]
    },
    {
      "cell_type": "markdown",
      "source": [
        "## End-to-end demo\n",
        "\n",
        "Let's now build a Gradio demo that takes care of:\n",
        "\n",
        "* Handling multiple turns of conversation\n",
        "* Format the prompt in correct structure\n",
        "* Allow user to specify/modify the parameters\n",
        "* Stop the generation\n",
        "\n",
        "Just run the following cell and have fun!"
      ],
      "metadata": {
        "id": "O7DjRdezJc-3"
      }
    },
    {
      "cell_type": "code",
      "source": [
        "!pip install gradio"
      ],
      "metadata": {
        "colab": {
          "base_uri": "https://localhost:8080/"
        },
        "id": "cpBoheOGJu7Y",
        "outputId": "2a0524a5-04cb-4cf9-c0de-471267b04c81"
      },
      "execution_count": 7,
      "outputs": [
        {
          "output_type": "stream",
          "name": "stdout",
          "text": [
            "Requirement already satisfied: gradio in /usr/local/lib/python3.10/dist-packages (4.16.0)\n",
            "Requirement already satisfied: aiofiles<24.0,>=22.0 in /usr/local/lib/python3.10/dist-packages (from gradio) (23.2.1)\n",
            "Requirement already satisfied: altair<6.0,>=4.2.0 in /usr/local/lib/python3.10/dist-packages (from gradio) (4.2.2)\n",
            "Requirement already satisfied: fastapi in /usr/local/lib/python3.10/dist-packages (from gradio) (0.109.0)\n",
            "Requirement already satisfied: ffmpy in /usr/local/lib/python3.10/dist-packages (from gradio) (0.3.1)\n",
            "Requirement already satisfied: gradio-client==0.8.1 in /usr/local/lib/python3.10/dist-packages (from gradio) (0.8.1)\n",
            "Requirement already satisfied: httpx in /usr/local/lib/python3.10/dist-packages (from gradio) (0.26.0)\n",
            "Requirement already satisfied: huggingface-hub>=0.19.3 in /usr/local/lib/python3.10/dist-packages (from gradio) (0.20.3)\n",
            "Requirement already satisfied: importlib-resources<7.0,>=1.3 in /usr/local/lib/python3.10/dist-packages (from gradio) (6.1.1)\n",
            "Requirement already satisfied: jinja2<4.0 in /usr/local/lib/python3.10/dist-packages (from gradio) (3.1.3)\n",
            "Requirement already satisfied: markupsafe~=2.0 in /usr/local/lib/python3.10/dist-packages (from gradio) (2.1.4)\n",
            "Requirement already satisfied: matplotlib~=3.0 in /usr/local/lib/python3.10/dist-packages (from gradio) (3.7.1)\n",
            "Requirement already satisfied: numpy~=1.0 in /usr/local/lib/python3.10/dist-packages (from gradio) (1.23.5)\n",
            "Requirement already satisfied: orjson~=3.0 in /usr/local/lib/python3.10/dist-packages (from gradio) (3.9.12)\n",
            "Requirement already satisfied: packaging in /usr/local/lib/python3.10/dist-packages (from gradio) (23.2)\n",
            "Requirement already satisfied: pandas<3.0,>=1.0 in /usr/local/lib/python3.10/dist-packages (from gradio) (1.5.3)\n",
            "Requirement already satisfied: pillow<11.0,>=8.0 in /usr/local/lib/python3.10/dist-packages (from gradio) (9.4.0)\n",
            "Requirement already satisfied: pydantic>=2.0 in /usr/local/lib/python3.10/dist-packages (from gradio) (2.5.3)\n",
            "Requirement already satisfied: pydub in /usr/local/lib/python3.10/dist-packages (from gradio) (0.25.1)\n",
            "Requirement already satisfied: python-multipart in /usr/local/lib/python3.10/dist-packages (from gradio) (0.0.6)\n",
            "Requirement already satisfied: pyyaml<7.0,>=5.0 in /usr/local/lib/python3.10/dist-packages (from gradio) (6.0.1)\n",
            "Requirement already satisfied: ruff>=0.1.7 in /usr/local/lib/python3.10/dist-packages (from gradio) (0.1.14)\n",
            "Requirement already satisfied: semantic-version~=2.0 in /usr/local/lib/python3.10/dist-packages (from gradio) (2.10.0)\n",
            "Requirement already satisfied: tomlkit==0.12.0 in /usr/local/lib/python3.10/dist-packages (from gradio) (0.12.0)\n",
            "Requirement already satisfied: typer[all]<1.0,>=0.9 in /usr/local/lib/python3.10/dist-packages (from gradio) (0.9.0)\n",
            "Requirement already satisfied: typing-extensions~=4.0 in /usr/local/lib/python3.10/dist-packages (from gradio) (4.9.0)\n",
            "Requirement already satisfied: uvicorn>=0.14.0 in /usr/local/lib/python3.10/dist-packages (from gradio) (0.27.0)\n",
            "Requirement already satisfied: fsspec in /usr/local/lib/python3.10/dist-packages (from gradio-client==0.8.1->gradio) (2023.6.0)\n",
            "Requirement already satisfied: websockets<12.0,>=10.0 in /usr/local/lib/python3.10/dist-packages (from gradio-client==0.8.1->gradio) (11.0.3)\n",
            "Requirement already satisfied: entrypoints in /usr/local/lib/python3.10/dist-packages (from altair<6.0,>=4.2.0->gradio) (0.4)\n",
            "Requirement already satisfied: jsonschema>=3.0 in /usr/local/lib/python3.10/dist-packages (from altair<6.0,>=4.2.0->gradio) (4.19.2)\n",
            "Requirement already satisfied: toolz in /usr/local/lib/python3.10/dist-packages (from altair<6.0,>=4.2.0->gradio) (0.12.0)\n",
            "Requirement already satisfied: filelock in /usr/local/lib/python3.10/dist-packages (from huggingface-hub>=0.19.3->gradio) (3.13.1)\n",
            "Requirement already satisfied: requests in /usr/local/lib/python3.10/dist-packages (from huggingface-hub>=0.19.3->gradio) (2.31.0)\n",
            "Requirement already satisfied: tqdm>=4.42.1 in /usr/local/lib/python3.10/dist-packages (from huggingface-hub>=0.19.3->gradio) (4.66.1)\n",
            "Requirement already satisfied: contourpy>=1.0.1 in /usr/local/lib/python3.10/dist-packages (from matplotlib~=3.0->gradio) (1.2.0)\n",
            "Requirement already satisfied: cycler>=0.10 in /usr/local/lib/python3.10/dist-packages (from matplotlib~=3.0->gradio) (0.12.1)\n",
            "Requirement already satisfied: fonttools>=4.22.0 in /usr/local/lib/python3.10/dist-packages (from matplotlib~=3.0->gradio) (4.47.2)\n",
            "Requirement already satisfied: kiwisolver>=1.0.1 in /usr/local/lib/python3.10/dist-packages (from matplotlib~=3.0->gradio) (1.4.5)\n",
            "Requirement already satisfied: pyparsing>=2.3.1 in /usr/local/lib/python3.10/dist-packages (from matplotlib~=3.0->gradio) (3.1.1)\n",
            "Requirement already satisfied: python-dateutil>=2.7 in /usr/local/lib/python3.10/dist-packages (from matplotlib~=3.0->gradio) (2.8.2)\n",
            "Requirement already satisfied: pytz>=2020.1 in /usr/local/lib/python3.10/dist-packages (from pandas<3.0,>=1.0->gradio) (2023.3.post1)\n",
            "Requirement already satisfied: annotated-types>=0.4.0 in /usr/local/lib/python3.10/dist-packages (from pydantic>=2.0->gradio) (0.6.0)\n",
            "Requirement already satisfied: pydantic-core==2.14.6 in /usr/local/lib/python3.10/dist-packages (from pydantic>=2.0->gradio) (2.14.6)\n",
            "Requirement already satisfied: click<9.0.0,>=7.1.1 in /usr/local/lib/python3.10/dist-packages (from typer[all]<1.0,>=0.9->gradio) (8.1.7)\n",
            "Requirement already satisfied: colorama<0.5.0,>=0.4.3 in /usr/local/lib/python3.10/dist-packages (from typer[all]<1.0,>=0.9->gradio) (0.4.6)\n",
            "Requirement already satisfied: shellingham<2.0.0,>=1.3.0 in /usr/local/lib/python3.10/dist-packages (from typer[all]<1.0,>=0.9->gradio) (1.5.4)\n",
            "Requirement already satisfied: rich<14.0.0,>=10.11.0 in /usr/local/lib/python3.10/dist-packages (from typer[all]<1.0,>=0.9->gradio) (13.7.0)\n",
            "Requirement already satisfied: h11>=0.8 in /usr/local/lib/python3.10/dist-packages (from uvicorn>=0.14.0->gradio) (0.14.0)\n",
            "Requirement already satisfied: starlette<0.36.0,>=0.35.0 in /usr/local/lib/python3.10/dist-packages (from fastapi->gradio) (0.35.1)\n",
            "Requirement already satisfied: anyio in /usr/local/lib/python3.10/dist-packages (from httpx->gradio) (3.7.1)\n",
            "Requirement already satisfied: certifi in /usr/local/lib/python3.10/dist-packages (from httpx->gradio) (2023.11.17)\n",
            "Requirement already satisfied: httpcore==1.* in /usr/local/lib/python3.10/dist-packages (from httpx->gradio) (1.0.2)\n",
            "Requirement already satisfied: idna in /usr/local/lib/python3.10/dist-packages (from httpx->gradio) (3.6)\n",
            "Requirement already satisfied: sniffio in /usr/local/lib/python3.10/dist-packages (from httpx->gradio) (1.3.0)\n",
            "Requirement already satisfied: attrs>=22.2.0 in /usr/local/lib/python3.10/dist-packages (from jsonschema>=3.0->altair<6.0,>=4.2.0->gradio) (23.2.0)\n",
            "Requirement already satisfied: jsonschema-specifications>=2023.03.6 in /usr/local/lib/python3.10/dist-packages (from jsonschema>=3.0->altair<6.0,>=4.2.0->gradio) (2023.12.1)\n",
            "Requirement already satisfied: referencing>=0.28.4 in /usr/local/lib/python3.10/dist-packages (from jsonschema>=3.0->altair<6.0,>=4.2.0->gradio) (0.32.1)\n",
            "Requirement already satisfied: rpds-py>=0.7.1 in /usr/local/lib/python3.10/dist-packages (from jsonschema>=3.0->altair<6.0,>=4.2.0->gradio) (0.17.1)\n",
            "Requirement already satisfied: six>=1.5 in /usr/local/lib/python3.10/dist-packages (from python-dateutil>=2.7->matplotlib~=3.0->gradio) (1.16.0)\n",
            "Requirement already satisfied: markdown-it-py>=2.2.0 in /usr/local/lib/python3.10/dist-packages (from rich<14.0.0,>=10.11.0->typer[all]<1.0,>=0.9->gradio) (3.0.0)\n",
            "Requirement already satisfied: pygments<3.0.0,>=2.13.0 in /usr/local/lib/python3.10/dist-packages (from rich<14.0.0,>=10.11.0->typer[all]<1.0,>=0.9->gradio) (2.16.1)\n",
            "Requirement already satisfied: exceptiongroup in /usr/local/lib/python3.10/dist-packages (from anyio->httpx->gradio) (1.2.0)\n",
            "Requirement already satisfied: charset-normalizer<4,>=2 in /usr/local/lib/python3.10/dist-packages (from requests->huggingface-hub>=0.19.3->gradio) (3.3.2)\n",
            "Requirement already satisfied: urllib3<3,>=1.21.1 in /usr/local/lib/python3.10/dist-packages (from requests->huggingface-hub>=0.19.3->gradio) (2.0.7)\n",
            "Requirement already satisfied: mdurl~=0.1 in /usr/local/lib/python3.10/dist-packages (from markdown-it-py>=2.2.0->rich<14.0.0,>=10.11.0->typer[all]<1.0,>=0.9->gradio) (0.1.2)\n"
          ]
        }
      ]
    },
    {
      "cell_type": "code",
      "source": [
        "import gradio as gr\n",
        "\n",
        "def generate(\n",
        "    prompt, history, temperature=0.9, max_new_tokens=256, top_p=0.95, repetition_penalty=1.0,\n",
        "):\n",
        "    temperature = float(temperature)\n",
        "    if temperature < 1e-2:\n",
        "        temperature = 1e-2\n",
        "    top_p = float(top_p)\n",
        "\n",
        "    generate_kwargs = dict(\n",
        "        temperature=temperature,\n",
        "        max_new_tokens=max_new_tokens,\n",
        "        top_p=top_p,\n",
        "        repetition_penalty=repetition_penalty,\n",
        "        do_sample=True,\n",
        "        seed=42,\n",
        "    )\n",
        "\n",
        "    formatted_prompt = format_prompt(prompt, history)\n",
        "\n",
        "    stream = client.text_generation(formatted_prompt, **generate_kwargs, stream=True, details=True, return_full_text=False)\n",
        "    output = \"\"\n",
        "\n",
        "    for response in stream:\n",
        "        output += response.token.text\n",
        "        yield output\n",
        "    return output\n",
        "\n",
        "\n",
        "additional_inputs=[\n",
        "    gr.Slider(\n",
        "        label=\"Temperature\",\n",
        "        value=0.9,\n",
        "        minimum=0.0,\n",
        "        maximum=1.0,\n",
        "        step=0.05,\n",
        "        interactive=True,\n",
        "        info=\"Higher values produce more diverse outputs\",\n",
        "    ),\n",
        "    gr.Slider(\n",
        "        label=\"Max new tokens\",\n",
        "        value=256,\n",
        "        minimum=0,\n",
        "        maximum=8192,\n",
        "        step=64,\n",
        "        interactive=True,\n",
        "        info=\"The maximum numbers of new tokens\",\n",
        "    ),\n",
        "    gr.Slider(\n",
        "        label=\"Top-p (nucleus sampling)\",\n",
        "        value=0.90,\n",
        "        minimum=0.0,\n",
        "        maximum=1,\n",
        "        step=0.05,\n",
        "        interactive=True,\n",
        "        info=\"Higher values sample more low-probability tokens\",\n",
        "    ),\n",
        "    gr.Slider(\n",
        "        label=\"Repetition penalty\",\n",
        "        value=1.2,\n",
        "        minimum=1.0,\n",
        "        maximum=2.0,\n",
        "        step=0.05,\n",
        "        interactive=True,\n",
        "        info=\"Penalize repeated tokens\",\n",
        "    )\n",
        "]\n",
        "\n",
        "with gr.Blocks() as demo:\n",
        "    gr.ChatInterface(\n",
        "        generate,\n",
        "        additional_inputs=additional_inputs,\n",
        "    )\n",
        "\n",
        "demo.queue().launch(debug=True)"
      ],
      "metadata": {
        "colab": {
          "base_uri": "https://localhost:8080/",
          "height": 680
        },
        "id": "CaJzT6jUJc0_",
        "outputId": "9cf6456b-156c-4892-cd50-d725a51b7c5e"
      },
      "execution_count": 8,
      "outputs": [
        {
          "output_type": "stream",
          "name": "stdout",
          "text": [
            "Setting queue=True in a Colab notebook requires sharing enabled. Setting `share=True` (you can turn this off by setting `share=False` in `launch()` explicitly).\n",
            "\n",
            "Colab notebook detected. This cell will run indefinitely so that you can see errors and logs. To turn off, set debug=False in launch().\n",
            "Running on public URL: https://908fd5c7378e19d03f.gradio.live\n",
            "\n",
            "This share link expires in 72 hours. For free permanent hosting and GPU upgrades, run `gradio deploy` from Terminal to deploy to Spaces (https://huggingface.co/spaces)\n"
          ]
        },
        {
          "output_type": "display_data",
          "data": {
            "text/plain": [
              "<IPython.core.display.HTML object>"
            ],
            "text/html": [
              "<div><iframe src=\"https://908fd5c7378e19d03f.gradio.live\" width=\"100%\" height=\"500\" allow=\"autoplay; camera; microphone; clipboard-read; clipboard-write;\" frameborder=\"0\" allowfullscreen></iframe></div>"
            ]
          },
          "metadata": {}
        },
        {
          "output_type": "stream",
          "name": "stdout",
          "text": [
            "Keyboard interruption in main thread... closing server.\n",
            "Killing tunnel 127.0.0.1:7860 <> https://908fd5c7378e19d03f.gradio.live\n"
          ]
        },
        {
          "output_type": "execute_result",
          "data": {
            "text/plain": []
          },
          "metadata": {},
          "execution_count": 8
        }
      ]
    },
    {
      "cell_type": "markdown",
      "source": [
        "## What's next?\n",
        "\n",
        "* Try out Mistral 7B in this [free online Space](https://huggingface.co/spaces/osanseviero/mistral-super-fast)\n",
        "* Deploy Mistral 7B Instruct with one click [here](https://ui.endpoints.huggingface.co/catalog)\n",
        "* Deploy in your own hardware using https://github.com/huggingface/text-generation-inference\n",
        "* Run the model locally using `transformers`"
      ],
      "metadata": {
        "id": "fbQ0Sp4OLclV"
      }
    },
    {
      "cell_type": "code",
      "source": [],
      "metadata": {
        "id": "wUy7N_8zJvyT"
      },
      "execution_count": 8,
      "outputs": []
    }
  ]
}